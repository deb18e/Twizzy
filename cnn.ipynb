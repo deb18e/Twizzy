{
 "cells": [
  {
   "cell_type": "code",
   "execution_count": 1,
   "id": "e813b81e-de4d-43f3-b39f-aa1f11be11dc",
   "metadata": {},
   "outputs": [],
   "source": [
    "import os\n",
    "import pandas as pd\n",
    "from PIL import Image\n",
    "import torch\n",
    "from torch.utils.data import Dataset, DataLoader\n",
    "from torchvision import transforms\n",
    "import matplotlib.pyplot as plt\n",
    "import torch.nn as nn\n",
    "import torch.optim as optim"
   ]
  },
  {
   "cell_type": "code",
   "execution_count": 2,
   "id": "efd295a4-cb51-4d41-93ae-96115d9afe27",
   "metadata": {},
   "outputs": [
    {
     "name": "stdout",
     "output_type": "stream",
     "text": [
      "Fichier CSV créé avec succès : ./archive/image_labels.csv\n"
     ]
    }
   ],
   "source": [
    "# Chemin du dossier contenant les images\n",
    "image_root = './archive/Train'  # Chemin relatif vers les images\n",
    "\n",
    "# Liste pour stocker les données\n",
    "data = []\n",
    "\n",
    "# Parcourir les sous-dossiers (chaque sous-dossier représente une classe)\n",
    "for class_id, class_name in enumerate(os.listdir(image_root)):\n",
    "    class_dir = os.path.join(image_root, class_name)\n",
    "    \n",
    "    # Vérifier que c'est un dossier\n",
    "    if os.path.isdir(class_dir):\n",
    "        # Parcourir les images dans le dossier de la classe\n",
    "        for image_name in os.listdir(class_dir):\n",
    "            image_path = os.path.join(class_name, image_name)  # Chemin relatif de l'image\n",
    "            data.append({'Path': image_path, 'ClassId': class_id})\n",
    "\n",
    "# Créer un DataFrame à partir des données\n",
    "df = pd.DataFrame(data)\n",
    "\n",
    "# Sauvegarder le DataFrame en CSV\n",
    "output_csv = './archive/image_labels.csv'\n",
    "df.to_csv(output_csv, index=False)\n",
    "\n",
    "print(f\"Fichier CSV créé avec succès : {output_csv}\")"
   ]
  },
  {
   "cell_type": "code",
   "execution_count": 4,
   "id": "bac727fe-46ed-471f-b50b-3b3bf9f414b3",
   "metadata": {},
   "outputs": [
    {
     "name": "stdout",
     "output_type": "stream",
     "text": [
      "True\n"
     ]
    }
   ],
   "source": [
    "import os\n",
    "\n",
    "img_path = \"C:/Users/pc/Desktop/Twizzy/archive/Train/4/4_00004_00022_00021.png\"  # Utilise le chemin complet\n",
    "print(os.path.exists(img_path))  # Cela retournera True si le fichier existe, sinon False\n"
   ]
  },
  {
   "cell_type": "code",
   "execution_count": 8,
   "id": "187fb294-630b-4cd3-b1fe-9216f28746cd",
   "metadata": {},
   "outputs": [
    {
     "name": "stdout",
     "output_type": "stream",
     "text": [
      "                           Path  ClassId\n",
      "0     1\\1_00001_00000_00000.png        0\n",
      "1     1\\1_00001_00000_00001.png        0\n",
      "2     1\\1_00001_00000_00002.png        0\n",
      "3     1\\1_00001_00000_00003.png        0\n",
      "4     1\\1_00001_00000_00004.png        0\n",
      "...                         ...      ...\n",
      "4527      8\\8_Screenshot_55.png        7\n",
      "4528       8\\8_Screenshot_6.png        7\n",
      "4529       8\\8_Screenshot_7.png        7\n",
      "4530       8\\8_Screenshot_8.png        7\n",
      "4531       8\\8_Screenshot_9.png        7\n",
      "\n",
      "[4532 rows x 2 columns]\n",
      "Dimensions des images dans le batch: torch.Size([128, 3, 64, 64])\n",
      "Dimensions des labels dans le batch: torch.Size([128])\n"
     ]
    }
   ],
   "source": [
    "\n",
    "# Charger le fichier CSV\n",
    "train_csv = './archive/image_labels.csv'\n",
    "train_labels = pd.read_csv(train_csv)\n",
    "\n",
    "# Transformation des images (si nécessaire)\n",
    "transform = transforms.Compose([\n",
    "    transforms.Resize((64, 64)),\n",
    "    transforms.ToTensor(),\n",
    "    transforms.Normalize(mean=[0.485, 0.456, 0.406], std=[0.229, 0.224, 0.225])\n",
    "])\n",
    "\n",
    "# Créer un dataset personnalisé\n",
    "class ImageDataset(Dataset):\n",
    "    def __init__(self, root, labels, transform=None):\n",
    "        self.root = root\n",
    "        self.labels = labels\n",
    "        self.transform = transform\n",
    "\n",
    "    def __len__(self):\n",
    "        return len(self.labels)\n",
    "\n",
    "    def __getitem__(self, idx):\n",
    "        img_path = os.path.join(self.root, self.labels.iloc[idx]['Path'])\n",
    "        image = Image.open(img_path).convert('RGB')  # Ouvrir l'image et la convertir en RGB\n",
    "        label = self.labels.iloc[idx]['ClassId']  # Récupérer l'étiquette\n",
    "\n",
    "        if self.transform:\n",
    "            image = self.transform(image)  # Appliquer les transformations (si présentes)\n",
    "\n",
    "        return image, label\n",
    "\n",
    "# Créer le dataset\n",
    "train_dataset = ImageDataset(image_root, train_labels, transform=transform)\n",
    "\n",
    "# Créer le DataLoader\n",
    "train_loader = DataLoader(dataset=train_dataset, batch_size=128, shuffle=True)\n",
    "\n",
    "# Vérifier les premières lignes du DataFrame des labels\n",
    "print(train_labels)\n",
    "\n",
    "# Vérifier si le DataLoader fonctionne\n",
    "for images, labels in train_loader:\n",
    "    print('Dimensions des images dans le batch:', images.shape)\n",
    "    print('Dimensions des labels dans le batch:', labels.shape)\n",
    "    break\n",
    "def calculate_accuracy(output, labels):\n",
    "    _, predicted = torch.max(output, 1)  # Récupérer les indices des classes prédites\n",
    "    correct = (predicted == labels).sum().item()  # Comparer les prédictions aux étiquettes\n",
    "    accuracy = 100 * correct / labels.size(0)  # Calculer la précision en pourcentage\n",
    "    return accuracy"
   ]
  },
  {
   "cell_type": "code",
   "execution_count": null,
   "id": "422bfd00",
   "metadata": {},
   "outputs": [],
   "source": [
    "import pandas as pd\n",
    "\n",
    "# Afficher toutes les lignes du DataFrame\n",
    "pd.set_option('display.max_rows', None)  # Affiche toutes les lignes\n",
    "print(train_labels)\n"
   ]
  },
  {
   "cell_type": "code",
   "execution_count": 10,
   "id": "cfda57e4-f242-4679-9482-c241a9b31e16",
   "metadata": {},
   "outputs": [],
   "source": [
    "def train_model(model, num_epochs, train_loader, valid_loader, test_loader, optimizer, device, scheduler, scheduler_on='valid_acc', logging_interval=100):\n",
    "    train_acc_list = []\n",
    "    valid_acc_list = []\n",
    "    minibatch_loss_list = []\n",
    "\n",
    "    for epoch in range(num_epochs):\n",
    "        model.train()\n",
    "        running_loss = 0.0\n",
    "        correct_train = 0\n",
    "        total_train = 0\n",
    "        \n",
    "        # Entraînement\n",
    "        for i, (images, labels) in enumerate(train_loader):\n",
    "            images, labels = images.to(device), labels.to(device)\n",
    "            optimizer.zero_grad()\n",
    "            \n",
    "            outputs = model(images)\n",
    "            loss = torch.nn.CrossEntropyLoss()(outputs, labels)\n",
    "            loss.backward()\n",
    "            optimizer.step()\n",
    "            \n",
    "            running_loss += loss.item()\n",
    "            \n",
    "            # Calcul de la précision\n",
    "            accuracy = calculate_accuracy(outputs, labels)\n",
    "            correct_train += (outputs.argmax(dim=1) == labels).sum().item()\n",
    "            total_train += labels.size(0)\n",
    "            \n",
    "            if i % logging_interval == logging_interval - 1:\n",
    "                print(f'Epoch [{epoch+1}/{num_epochs}], Step [{i+1}/{len(train_loader)}], Loss: {running_loss / logging_interval:.4f}')\n",
    "                running_loss = 0.0\n",
    "        \n",
    "        train_accuracy = 100 * correct_train / total_train\n",
    "        train_acc_list.append(train_accuracy)\n",
    "\n",
    "        # Validation\n",
    "        model.eval()\n",
    "        correct_valid = 0\n",
    "        total_valid = 0\n",
    "        with torch.no_grad():\n",
    "            for images, labels in valid_loader:\n",
    "                images, labels = images.to(device), labels.to(device)\n",
    "                \n",
    "                outputs = model(images)\n",
    "                \n",
    "                # Calcul de la précision pour la validation\n",
    "                accuracy = calculate_accuracy(outputs, labels)\n",
    "                correct_valid += (outputs.argmax(dim=1) == labels).sum().item()\n",
    "                total_valid += labels.size(0)\n",
    "        \n",
    "        valid_accuracy = 100 * correct_valid / total_valid\n",
    "        valid_acc_list.append(valid_accuracy)\n",
    "\n",
    "        print(f'Epoch [{epoch+1}/{num_epochs}], Train Accuracy: {train_accuracy:.2f}%, Valid Accuracy: {valid_accuracy:.2f}%')\n",
    "\n",
    "        # Scheduler\n",
    "        if scheduler_on == 'valid_acc':\n",
    "            scheduler.step(valid_accuracy)\n",
    "        \n",
    "    return minibatch_loss_list, train_acc_list, valid_acc_list"
   ]
  },
  {
   "cell_type": "code",
   "execution_count": 11,
   "id": "5775ac9b-76eb-4d6f-bec7-872669d43970",
   "metadata": {},
   "outputs": [],
   "source": [
    "class BasicBlock(nn.Module):\n",
    "    def __init__(self, in_channels, out_channels, stride=1):\n",
    "        super(BasicBlock, self).__init__()\n",
    "        self.conv1 = nn.Conv2d(in_channels, out_channels, kernel_size=3, stride=stride, padding=1, bias=False)\n",
    "        self.bn1 = nn.BatchNorm2d(out_channels)\n",
    "        self.relu = nn.ReLU(inplace=True)\n",
    "        self.conv2 = nn.Conv2d(out_channels, out_channels, kernel_size=3, stride=1, padding=1, bias=False)\n",
    "        self.bn2 = nn.BatchNorm2d(out_channels)\n",
    "        \n",
    "        self.shortcut = nn.Sequential()\n",
    "        if stride != 1 or in_channels != out_channels:\n",
    "            self.shortcut = nn.Sequential(\n",
    "                nn.Conv2d(in_channels, out_channels, kernel_size=1, stride=stride, bias=False),\n",
    "                nn.BatchNorm2d(out_channels)\n",
    "            )\n",
    "\n",
    "    def forward(self, x):\n",
    "        out = self.conv1(x)\n",
    "        out = self.bn1(out)\n",
    "        out = self.relu(out)\n",
    "        out = self.conv2(out)\n",
    "        out = self.bn2(out)\n",
    "        out += self.shortcut(x)\n",
    "        out = self.relu(out)\n",
    "        return out"
   ]
  },
  {
   "cell_type": "code",
   "execution_count": 12,
   "id": "6ea3da9c-5b37-4a4c-a9e4-46b33877c42a",
   "metadata": {},
   "outputs": [],
   "source": [
    "class ResNet(nn.Module):\n",
    "    def __init__(self, block, layers, num_classes=8):\n",
    "        super(ResNet, self).__init__()\n",
    "        self.in_channels = 64\n",
    "        self.conv1 = nn.Conv2d(3, 64, kernel_size=7, stride=2, padding=3, bias=False)\n",
    "        self.bn1 = nn.BatchNorm2d(64)\n",
    "        self.relu = nn.ReLU(inplace=True)\n",
    "        self.maxpool = nn.MaxPool2d(kernel_size=3, stride=2, padding=1)\n",
    "        self.layer1 = self._make_layer(block, 64, layers[0])\n",
    "        self.layer2 = self._make_layer(block, 128, layers[1], stride=2)\n",
    "        self.layer3 = self._make_layer(block, 256, layers[2], stride=2)\n",
    "        self.layer4 = self._make_layer(block, 512, layers[3], stride=2)\n",
    "        self.avgpool = nn.AdaptiveAvgPool2d((1, 1))\n",
    "        self.fc = nn.Linear(512, num_classes)\n",
    "\n",
    "    def _make_layer(self, block, out_channels, num_blocks, stride=1):\n",
    "        layers = []\n",
    "        layers.append(block(self.in_channels, out_channels, stride))\n",
    "        self.in_channels = out_channels\n",
    "        for _ in range(1, num_blocks):\n",
    "            layers.append(block(self.in_channels, out_channels))\n",
    "        return nn.Sequential(*layers)\n",
    "\n",
    "    def forward(self, x):\n",
    "        x = self.conv1(x)\n",
    "        x = self.bn1(x)\n",
    "        x = self.relu(x)\n",
    "        x = self.maxpool(x)\n",
    "        x = self.layer1(x)\n",
    "        x = self.layer2(x)\n",
    "        x = self.layer3(x)\n",
    "        x = self.layer4(x)\n",
    "        x = self.avgpool(x)\n",
    "        x = torch.flatten(x, 1)\n",
    "        x = self.fc(x)\n",
    "        return x"
   ]
  },
  {
   "cell_type": "code",
   "execution_count": 13,
   "id": "2a133005-7627-42ab-a350-b0331ab44f20",
   "metadata": {},
   "outputs": [
    {
     "name": "stderr",
     "output_type": "stream",
     "text": [
      "C:\\Users\\pc\\AppData\\Roaming\\Python\\Python312\\site-packages\\torch\\optim\\lr_scheduler.py:62: UserWarning: The verbose parameter is deprecated. Please use get_last_lr() to access the learning rate.\n",
      "  warnings.warn(\n"
     ]
    },
    {
     "name": "stdout",
     "output_type": "stream",
     "text": [
      "Epoch [1/10], Train Accuracy: 55.25%, Valid Accuracy: 47.22%\n",
      "Epoch [2/10], Train Accuracy: 82.57%, Valid Accuracy: 90.86%\n",
      "Epoch [3/10], Train Accuracy: 94.24%, Valid Accuracy: 96.16%\n",
      "Epoch [4/10], Train Accuracy: 97.57%, Valid Accuracy: 95.83%\n",
      "Epoch [5/10], Train Accuracy: 98.12%, Valid Accuracy: 99.36%\n",
      "Epoch [6/10], Train Accuracy: 98.83%, Valid Accuracy: 96.93%\n",
      "Epoch [7/10], Train Accuracy: 99.25%, Valid Accuracy: 99.45%\n",
      "Epoch [8/10], Train Accuracy: 99.51%, Valid Accuracy: 99.78%\n",
      "Epoch [9/10], Train Accuracy: 99.96%, Valid Accuracy: 100.00%\n",
      "Epoch [10/10], Train Accuracy: 99.98%, Valid Accuracy: 100.00%\n"
     ]
    },
    {
     "data": {
      "image/png": "[encoded data removed]",
      "text/plain": [
       "<Figure size 640x480 with 1 Axes>"
      ]
     },
     "metadata": {},
     "output_type": "display_data"
    }
   ],
   "source": [
    "DEVICE = torch.device('cuda' if torch.cuda.is_available() else 'cpu')\n",
    "model = ResNet(BasicBlock, layers=[3, 4, 6, 3], num_classes=8)  # ResNet34\n",
    "model = model.to(DEVICE)\n",
    "\n",
    "optimizer = torch.optim.SGD(model.parameters(), momentum=0.9, lr=0.01)\n",
    "scheduler = torch.optim.lr_scheduler.ReduceLROnPlateau(optimizer,\n",
    "                                                       factor=0.1,\n",
    "                                                       mode='max',\n",
    "                                                       verbose=True)\n",
    "\n",
    "# Variables d'entraînement\n",
    "NUM_EPOCHS = 10\n",
    "\n",
    "# Charger les DataLoader pour la validation et le test (ajouter ces datasets comme vous le souhaitez)\n",
    "valid_loader = train_loader  # Utilisez un valid_loader approprié\n",
    "test_loader = train_loader   # Utilisez un test_loader approprié\n",
    "\n",
    "minibatch_loss_list, train_acc_list, valid_acc_list = train_model(\n",
    "    model=model,\n",
    "    num_epochs=NUM_EPOCHS,\n",
    "    train_loader=train_loader,\n",
    "    valid_loader=valid_loader,\n",
    "    test_loader=test_loader,\n",
    "    optimizer=optimizer,\n",
    "    device=DEVICE,\n",
    "    scheduler=scheduler,\n",
    "    scheduler_on='valid_acc',\n",
    "    logging_interval=100)\n",
    "\n",
    "# Affichage des courbes de précision\n",
    "plt.plot(train_acc_list, label='Train Accuracy')\n",
    "plt.plot(valid_acc_list, label='Validation Accuracy')\n",
    "plt.legend()\n",
    "plt.xlabel('Epochs')\n",
    "plt.ylabel('Accuracy (%)')\n",
    "plt.title('Training and Validation Accuracy')\n",
    "plt.ylim([0, 100])\n",
    "plt.show()"
   ]
  },
  {
   "cell_type": "code",
   "execution_count": 31,
   "id": "a80e1f10",
   "metadata": {},
   "outputs": [
    {
     "name": "stdout",
     "output_type": "stream",
     "text": [
      "Modèle et optimiseur sauvegardés avec succès dans ./model_resnet4_classes.pth et ./optimizer_resnet4_classes.pth\n"
     ]
    }
   ],
   "source": [
    "# Sauvegarder l'état du modèle et de l'optimiseur\n",
    "MODEL_PATH = './model_resnet4_classes.pth'\n",
    "\n",
    "# Sauvegarder l'état du modèle\n",
    "torch.save(model.state_dict(), MODEL_PATH)\n",
    "\n",
    "# Si vous voulez aussi sauvegarder l'optimiseur\n",
    "OPTIMIZER_PATH = './optimizer_resnet4_classes.pth'\n",
    "torch.save(optimizer.state_dict(), OPTIMIZER_PATH)\n",
    "\n",
    "print(f\"Modèle et optimiseur sauvegardés avec succès dans {MODEL_PATH} et {OPTIMIZER_PATH}\")\n"
   ]
  },
  {
   "cell_type": "code",
   "execution_count": 30,
   "id": "8307fd04",
   "metadata": {},
   "outputs": [
    {
     "name": "stdout",
     "output_type": "stream",
     "text": [
      "Modèle et optimiseur chargés avec succès depuis ./model_resnet4_classes.pth et ./optimizer_resnet4_classes.pth\n"
     ]
    }
   ],
   "source": [
    "# Charger le modèle et l'optimiseur sauvegardés\n",
    "model = ResNet(BasicBlock, layers=[3, 4, 6, 3], num_classes=8)  # Assurez-vous d'utiliser la même architecture\n",
    "model.load_state_dict(torch.load(MODEL_PATH))\n",
    "model = model.to(DEVICE)\n",
    "\n",
    "optimizer = torch.optim.SGD(model.parameters(), momentum=0.9, lr=0.01)\n",
    "optimizer.load_state_dict(torch.load(OPTIMIZER_PATH))\n",
    "\n",
    "print(f\"Modèle et optimiseur chargés avec succès depuis {MODEL_PATH} et {OPTIMIZER_PATH}\")\n"
   ]
  },
  {
   "cell_type": "code",
   "execution_count": 28,
   "id": "b162f27f",
   "metadata": {},
   "outputs": [
    {
     "name": "stdout",
     "output_type": "stream",
     "text": [
      "Classe prédite : 6 - Vitesse associée : 110 km/h\n"
     ]
    }
   ],
   "source": [
    "\n",
    "\n",
    "# Mode évaluation (désactive le dropout, batchnorm)\n",
    "model.eval()\n",
    "\n",
    "# Exemple d'utilisation pour une image de test\n",
    "test_image_path = './archive/Test/Screenshot_45.png'\n",
    "test_image = Image.open(test_image_path).convert('RGB')\n",
    "\n",
    "# Appliquer les transformations\n",
    "test_image = transform(test_image).unsqueeze(0).to(DEVICE)\n",
    "\n",
    "# Effectuer la prédiction\n",
    "with torch.no_grad():  # Désactive le calcul de gradients pour l'inférence\n",
    "    output = model(test_image)\n",
    "    _, predicted_class = torch.max(output, 1)\n",
    "\n",
    "# Dictionnaire des correspondances classe -> vitesse\n",
    "speed_limits = {\n",
    "    0: \"30 km/h\",\n",
    "    1: \"Stop\",\n",
    "    2: \"50 km/h\",\n",
    "    3: \"70 km/h\",\n",
    "    4: \"80 km/h\",\n",
    "    6: \"110 km/h\",\n",
    "    5: \"90 km/h\" ,\n",
    "    7: \"130mn/h\"\n",
    "\n",
    "}\n",
    "\n",
    "# Récupérer la vitesse correspondante\n",
    "predicted_speed = speed_limits.get(predicted_class.item(), \"Classe inconnue\")\n",
    "\n",
    "print(f'Classe prédite : {predicted_class.item()} - Vitesse associée : {predicted_speed}')\n",
    "\n"
   ]
  }
 ],
 "metadata": {
  "kernelspec": {
   "display_name": "Python 3",
   "language": "python",
   "name": "python3"
  },
  "language_info": {
   "codemirror_mode": {
    "name": "ipython",
    "version": 3
   },
   "file_extension": ".py",
   "mimetype": "text/x-python",
   "name": "python",
   "nbconvert_exporter": "python",
   "pygments_lexer": "ipython3",
   "version": "3.12.0"
  }
 },
 "nbformat": 4,
 "nbformat_minor": 5
}
