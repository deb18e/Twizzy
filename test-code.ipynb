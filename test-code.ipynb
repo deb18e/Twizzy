{
 "cells": [
  {
   "cell_type": "code",
   "execution_count": 40,
   "id": "e813b81e-de4d-43f3-b39f-aa1f11be11dc",
   "metadata": {},
   "outputs": [],
   "source": [
    "import torch\n",
    "import torch.nn as nn\n",
    "import torch.optim as optim\n",
    "from torchvision import models, transforms\n",
    "from torch.utils.data import DataLoader, Dataset\n",
    "from PIL import Image\n",
    "import pandas as pd\n",
    "import os"
   ]
  },
  {
   "cell_type": "code",
   "execution_count": 42,
   "id": "efd295a4-cb51-4d41-93ae-96115d9afe27",
   "metadata": {},
   "outputs": [
    {
     "name": "stdout",
     "output_type": "stream",
     "text": [
      "Fichier CSV créé avec succès : ./archive/image_labels.csv\n"
     ]
    }
   ],
   "source": [
    "# Chemin du dossier contenant les images\n",
    "image_root = './archive/Train'  # Chemin relatif vers les images\n",
    "\n",
    "# Liste pour stocker les données\n",
    "data = []\n",
    "\n",
    "# Parcourir les sous-dossiers (chaque sous-dossier représente une classe)\n",
    "for class_id, class_name in enumerate(os.listdir(image_root)):\n",
    "    class_dir = os.path.join(image_root, class_name)\n",
    "    \n",
    "    # Vérifier que c'est un dossier\n",
    "    if os.path.isdir(class_dir):\n",
    "        # Parcourir les images dans le dossier de la classe\n",
    "        for image_name in os.listdir(class_dir):\n",
    "            image_path = os.path.join(class_name, image_name)  # Chemin relatif de l'image\n",
    "            data.append({'Path': image_path, 'ClassId': class_id})\n",
    "\n",
    "# Créer un DataFrame à partir des données\n",
    "df = pd.DataFrame(data)\n",
    "\n",
    "# Sauvegarder le DataFrame en CSV\n",
    "output_csv = './archive/image_labels.csv'\n",
    "df.to_csv(output_csv, index=False)\n",
    "\n",
    "print(f\"Fichier CSV créé avec succès : {output_csv}\")"
   ]
  },
  {
   "cell_type": "code",
   "execution_count": 44,
   "id": "bac727fe-46ed-471f-b50b-3b3bf9f414b3",
   "metadata": {},
   "outputs": [
    {
     "name": "stdout",
     "output_type": "stream",
     "text": [
      "True\n"
     ]
    }
   ],
   "source": [
    "import os\n",
    "\n",
    "img_path = \"C:/Users/pc/Desktop/Twizzy/archive/Train/4/00004_00022_00021.png\"  # Utilise le chemin complet\n",
    "print(os.path.exists(img_path))  # Cela retournera True si le fichier existe, sinon False\n"
   ]
  },
  {
   "cell_type": "code",
   "execution_count": 45,
   "id": "187fb294-630b-4cd3-b1fe-9216f28746cd",
   "metadata": {},
   "outputs": [
    {
     "name": "stdout",
     "output_type": "stream",
     "text": [
      "                      Path  ClassId\n",
      "0  1\\00001_00000_00000.png        0\n",
      "1  1\\00001_00000_00001.png        0\n",
      "2  1\\00001_00000_00002.png        0\n",
      "3  1\\00001_00000_00003.png        0\n",
      "4  1\\00001_00000_00004.png        0\n",
      "Dimensions des images dans le batch: torch.Size([128, 3, 64, 64])\n",
      "Dimensions des labels dans le batch: torch.Size([128])\n"
     ]
    }
   ],
   "source": [
    "\n",
    "\n",
    "\n",
    "\n",
    "# Charger le fichier CSV\n",
    "train_csv = './archive/image_labels.csv'\n",
    "train_labels = pd.read_csv(train_csv)\n",
    "\n",
    "# Transformation des images (si nécessaire)\n",
    "transform = transforms.Compose([\n",
    "    transforms.Resize((64, 64)),\n",
    "    transforms.ToTensor(),\n",
    "    transforms.Normalize(mean=[0.485, 0.456, 0.406], std=[0.229, 0.224, 0.225])\n",
    "])\n",
    "\n",
    "# Créer un dataset personnalisé\n",
    "class ImageDataset(Dataset):\n",
    "    def __init__(self, root, labels, transform=None):\n",
    "        self.root = root\n",
    "        self.labels = labels\n",
    "        self.transform = transform\n",
    "\n",
    "    def __len__(self):\n",
    "        return len(self.labels)\n",
    "\n",
    "    def __getitem__(self, idx):\n",
    "        img_path = os.path.join(self.root, self.labels.iloc[idx]['Path'])\n",
    "        image = Image.open(img_path).convert('RGB')  # Ouvrir l'image et la convertir en RGB\n",
    "        label = self.labels.iloc[idx]['ClassId']  # Récupérer l'étiquette\n",
    "\n",
    "        if self.transform:\n",
    "            image = self.transform(image)  # Appliquer les transformations (si présentes)\n",
    "\n",
    "        return image, label\n",
    "\n",
    "# Créer le dataset\n",
    "train_dataset = ImageDataset(image_root, train_labels, transform=transform)\n",
    "\n",
    "# Créer le DataLoader\n",
    "train_loader = DataLoader(dataset=train_dataset, batch_size=128, shuffle=True)\n",
    "\n",
    "# Vérifier les premières lignes du DataFrame des labels\n",
    "print(train_labels.head())\n",
    "\n",
    "# Vérifier si le DataLoader fonctionne\n",
    "for images, labels in train_loader:\n",
    "    print('Dimensions des images dans le batch:', images.shape)\n",
    "    print('Dimensions des labels dans le batch:', labels.shape)\n",
    "    break\n"
   ]
  },
  {
   "cell_type": "code",
   "execution_count": 46,
   "id": "cfda57e4-f242-4679-9482-c241a9b31e16",
   "metadata": {},
   "outputs": [
    {
     "name": "stdout",
     "output_type": "stream",
     "text": [
      "Époque 1/10, Perte : 1.4078203161557516\n",
      "Époque 2/10, Perte : 0.8343416889508565\n",
      "Époque 3/10, Perte : 0.5062174956003825\n",
      "Époque 4/10, Perte : 0.2944492772221565\n",
      "Époque 5/10, Perte : 0.15418922975659372\n",
      "Époque 6/10, Perte : 0.08815173817177614\n",
      "Époque 7/10, Perte : 0.07166428851584593\n",
      "Époque 8/10, Perte : 0.05063832765445113\n",
      "Époque 9/10, Perte : 0.03751457060376803\n",
      "Époque 10/10, Perte : 0.030459489362935226\n",
      "Entraînement terminé\n"
     ]
    }
   ],
   "source": [
    "import torch.nn as nn\n",
    "import torch.optim as optim\n",
    "\n",
    "class SimpleCNN(nn.Module):\n",
    "    def __init__(self, num_classes):\n",
    "        super(SimpleCNN, self).__init__()\n",
    "        \n",
    "        # Première couche convolutive (64x64 -> 32x32)\n",
    "        self.conv1 = nn.Conv2d(in_channels=3, out_channels=32, kernel_size=3, stride=1, padding=1)\n",
    "        self.pool = nn.MaxPool2d(2, 2)  # Pooling (32x32 -> 16x16)\n",
    "        \n",
    "        # Deuxième couche convolutive (16x16 -> 8x8)\n",
    "        self.conv2 = nn.Conv2d(in_channels=32, out_channels=64, kernel_size=3, stride=1, padding=1)\n",
    "        \n",
    "        # Couche entièrement connectée\n",
    "        self.fc1 = nn.Linear(64 * 16 * 16, 512)  # 64 canaux * 16x16 dimensions\n",
    "        self.fc2 = nn.Linear(512, num_classes)  # Sortie avec 'num_classes' classes\n",
    "    \n",
    "    def forward(self, x):\n",
    "        x = self.pool(nn.ReLU()(self.conv1(x)))  # Appliquer ReLU après convolution\n",
    "        x = self.pool(nn.ReLU()(self.conv2(x)))  # Appliquer ReLU après convolution\n",
    "        \n",
    "        x = x.view(-1, 64 * 16 * 16)  # Aplatir les données pour la couche entièrement connectée\n",
    "        x = nn.ReLU()(self.fc1(x))  # Appliquer ReLU après la première couche entièrement connectée\n",
    "        x = self.fc2(x)  # Sortie avec 'num_classes' classes\n",
    "        \n",
    "        return x\n",
    "\n",
    "# Initialisation du modèle avec le nombre de classes\n",
    "num_classes = len(train_labels['ClassId'].unique())\n",
    "model = SimpleCNN(num_classes)\n",
    "\n",
    "# Fonction de perte et optimiseur\n",
    "criterion = nn.CrossEntropyLoss()\n",
    "optimizer = optim.Adam(model.parameters(), lr=0.001)\n",
    "\n",
    "# Entraînement du modèle\n",
    "num_epochs = 10\n",
    "for epoch in range(num_epochs):\n",
    "    model.train()  # Passer en mode entraînement\n",
    "    running_loss = 0.0\n",
    "    \n",
    "    for images, labels in train_loader:\n",
    "        optimizer.zero_grad()  # Réinitialiser les gradients\n",
    "        \n",
    "        # Passer les images à travers le modèle\n",
    "        outputs = model(images)\n",
    "        \n",
    "        # Calcul de la perte\n",
    "        loss = criterion(outputs, labels)\n",
    "        \n",
    "        # Calculer les gradients et mettre à jour les poids\n",
    "        loss.backward()\n",
    "        optimizer.step()\n",
    "        \n",
    "        running_loss += loss.item()\n",
    "    \n",
    "    print(f\"Époque {epoch + 1}/{num_epochs}, Perte : {running_loss / len(train_loader)}\")\n",
    "\n",
    "print(\"Entraînement terminé\")\n"
   ]
  },
  {
   "cell_type": "code",
   "execution_count": null,
   "id": "5775ac9b-76eb-4d6f-bec7-872669d43970",
   "metadata": {},
   "outputs": [],
   "source": []
  },
  {
   "cell_type": "code",
   "execution_count": null,
   "id": "6ea3da9c-5b37-4a4c-a9e4-46b33877c42a",
   "metadata": {},
   "outputs": [],
   "source": []
  },
  {
   "cell_type": "code",
   "execution_count": null,
   "id": "2a133005-7627-42ab-a350-b0331ab44f20",
   "metadata": {},
   "outputs": [],
   "source": []
  },
  {
   "cell_type": "code",
   "execution_count": null,
   "id": "7064e3c4-f8a4-494c-96ef-ae3c84a944bc",
   "metadata": {},
   "outputs": [],
   "source": []
  },
  {
   "cell_type": "code",
   "execution_count": null,
   "id": "8720233a-85bd-415c-b09c-e7bd5c28496b",
   "metadata": {},
   "outputs": [],
   "source": []
  },
  {
   "cell_type": "code",
   "execution_count": null,
   "id": "1e39716b-34b4-4410-bc0e-f4fb7c411ecf",
   "metadata": {},
   "outputs": [],
   "source": []
  },
  {
   "cell_type": "code",
   "execution_count": null,
   "id": "5a281e00-cdd0-4343-b436-919b2c4268dd",
   "metadata": {},
   "outputs": [],
   "source": []
  },
  {
   "cell_type": "code",
   "execution_count": null,
   "id": "60bc6591-bc75-4672-ba69-dc32572e1e27",
   "metadata": {},
   "outputs": [],
   "source": []
  },
  {
   "cell_type": "code",
   "execution_count": null,
   "id": "07a6cf0d-a22d-49d4-b630-df17580b1025",
   "metadata": {},
   "outputs": [],
   "source": []
  },
  {
   "cell_type": "code",
   "execution_count": null,
   "id": "c9e71dd8-53d2-408d-b247-ddb8562a06ef",
   "metadata": {},
   "outputs": [],
   "source": []
  },
  {
   "cell_type": "code",
   "execution_count": null,
   "id": "b62d839a-e9f7-46db-9e8f-38294f375f86",
   "metadata": {},
   "outputs": [],
   "source": []
  },
  {
   "cell_type": "code",
   "execution_count": null,
   "id": "27a9fa99-df5c-4f65-816d-0e53db8b6184",
   "metadata": {},
   "outputs": [],
   "source": []
  }
 ],
 "metadata": {
  "kernelspec": {
   "display_name": "Python 3 (ipykernel)",
   "language": "python",
   "name": "python3"
  },
  "language_info": {
   "codemirror_mode": {
    "name": "ipython",
    "version": 3
   },
   "file_extension": ".py",
   "mimetype": "text/x-python",
   "name": "python",
   "nbconvert_exporter": "python",
   "pygments_lexer": "ipython3",
   "version": "3.12.4"
  }
 },
 "nbformat": 4,
 "nbformat_minor": 5
}
