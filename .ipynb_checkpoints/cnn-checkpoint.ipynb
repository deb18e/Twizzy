{
 "cells": [
  {
   "cell_type": "code",
   "execution_count": 97,
   "id": "e813b81e-de4d-43f3-b39f-aa1f11be11dc",
   "metadata": {},
   "outputs": [],
   "source": [
    "import os\n",
    "import pandas as pd\n",
    "from PIL import Image\n",
    "import torch\n",
    "from torch.utils.data import Dataset, DataLoader\n",
    "from torchvision import transforms"
   ]
  },
  {
   "cell_type": "code",
   "execution_count": 99,
   "id": "efd295a4-cb51-4d41-93ae-96115d9afe27",
   "metadata": {},
   "outputs": [
    {
     "name": "stdout",
     "output_type": "stream",
     "text": [
      "Fichier CSV créé avec succès : ./archive/image_labels.csv\n"
     ]
    }
   ],
   "source": [
    "# Chemin du dossier contenant les images\n",
    "image_root = './archive/Train'  # Chemin relatif vers les images\n",
    "\n",
    "# Liste pour stocker les données\n",
    "data = []\n",
    "\n",
    "# Parcourir les sous-dossiers (chaque sous-dossier représente une classe)\n",
    "for class_id, class_name in enumerate(os.listdir(image_root)):\n",
    "    class_dir = os.path.join(image_root, class_name)\n",
    "    \n",
    "    # Vérifier que c'est un dossier\n",
    "    if os.path.isdir(class_dir):\n",
    "        # Parcourir les images dans le dossier de la classe\n",
    "        for image_name in os.listdir(class_dir):\n",
    "            image_path = os.path.join(class_name, image_name)  # Chemin relatif de l'image\n",
    "            data.append({'Path': image_path, 'ClassId': class_id})\n",
    "\n",
    "# Créer un DataFrame à partir des données\n",
    "df = pd.DataFrame(data)\n",
    "\n",
    "# Sauvegarder le DataFrame en CSV\n",
    "output_csv = './archive/image_labels.csv'\n",
    "df.to_csv(output_csv, index=False)\n",
    "\n",
    "print(f\"Fichier CSV créé avec succès : {output_csv}\")"
   ]
  },
  {
   "cell_type": "code",
   "execution_count": 93,
   "id": "bac727fe-46ed-471f-b50b-3b3bf9f414b3",
   "metadata": {},
   "outputs": [
    {
     "name": "stdout",
     "output_type": "stream",
     "text": [
      "True\n"
     ]
    }
   ],
   "source": [
    "import os\n",
    "\n",
    "img_path = \"C:/Users/pc/Desktop/Twizzy/archive/Train/4/00004_00022_00021.png\"  # Utilise le chemin complet\n",
    "print(os.path.exists(img_path))  # Cela retournera True si le fichier existe, sinon False\n"
   ]
  },
  {
   "cell_type": "code",
   "execution_count": 101,
   "id": "187fb294-630b-4cd3-b1fe-9216f28746cd",
   "metadata": {},
   "outputs": [
    {
     "name": "stdout",
     "output_type": "stream",
     "text": [
      "                      Path  ClassId\n",
      "0  1\\00001_00000_00000.png        0\n",
      "1  1\\00001_00000_00001.png        0\n",
      "2  1\\00001_00000_00002.png        0\n",
      "3  1\\00001_00000_00003.png        0\n",
      "4  1\\00001_00000_00004.png        0\n",
      "Dimensions des images dans le batch: torch.Size([128, 3, 64, 64])\n",
      "Dimensions des labels dans le batch: torch.Size([128])\n"
     ]
    }
   ],
   "source": [
    "\n",
    "\n",
    "\n",
    "\n",
    "# Charger le fichier CSV\n",
    "train_csv = './archive/image_labels.csv'\n",
    "train_labels = pd.read_csv(train_csv)\n",
    "\n",
    "# Transformation des images (si nécessaire)\n",
    "transform = transforms.Compose([\n",
    "    transforms.Resize((64, 64)),\n",
    "    transforms.ToTensor(),\n",
    "    transforms.Normalize(mean=[0.485, 0.456, 0.406], std=[0.229, 0.224, 0.225])\n",
    "])\n",
    "\n",
    "# Créer un dataset personnalisé\n",
    "class ImageDataset(Dataset):\n",
    "    def __init__(self, root, labels, transform=None):\n",
    "        self.root = root\n",
    "        self.labels = labels\n",
    "        self.transform = transform\n",
    "\n",
    "    def __len__(self):\n",
    "        return len(self.labels)\n",
    "\n",
    "    def __getitem__(self, idx):\n",
    "        img_path = os.path.join(self.root, self.labels.iloc[idx]['Path'])\n",
    "        image = Image.open(img_path).convert('RGB')  # Ouvrir l'image et la convertir en RGB\n",
    "        label = self.labels.iloc[idx]['ClassId']  # Récupérer l'étiquette\n",
    "\n",
    "        if self.transform:\n",
    "            image = self.transform(image)  # Appliquer les transformations (si présentes)\n",
    "\n",
    "        return image, label\n",
    "\n",
    "# Créer le dataset\n",
    "train_dataset = ImageDataset(image_root, train_labels, transform=transform)\n",
    "\n",
    "# Créer le DataLoader\n",
    "train_loader = DataLoader(dataset=train_dataset, batch_size=128, shuffle=True)\n",
    "\n",
    "# Vérifier les premières lignes du DataFrame des labels\n",
    "print(train_labels.head())\n",
    "\n",
    "# Vérifier si le DataLoader fonctionne\n",
    "for images, labels in train_loader:\n",
    "    print('Dimensions des images dans le batch:', images.shape)\n",
    "    print('Dimensions des labels dans le batch:', labels.shape)\n",
    "    break\n"
   ]
  },
  {
   "cell_type": "code",
   "execution_count": null,
   "id": "7d2bb9d6-1b6e-4dea-803d-41e8a2f3db78",
   "metadata": {},
   "outputs": [],
   "source": []
  },
  {
   "cell_type": "code",
   "execution_count": null,
   "id": "496e6520-3f6c-47bf-adf0-d55751123a8d",
   "metadata": {},
   "outputs": [],
   "source": []
  },
  {
   "cell_type": "code",
   "execution_count": null,
   "id": "5aa5433a-c958-48eb-8997-99c32b88bf07",
   "metadata": {},
   "outputs": [],
   "source": []
  }
 ],
 "metadata": {
  "kernelspec": {
   "display_name": "Python 3 (ipykernel)",
   "language": "python",
   "name": "python3"
  },
  "language_info": {
   "codemirror_mode": {
    "name": "ipython",
    "version": 3
   },
   "file_extension": ".py",
   "mimetype": "text/x-python",
   "name": "python",
   "nbconvert_exporter": "python",
   "pygments_lexer": "ipython3",
   "version": "3.12.4"
  }
 },
 "nbformat": 4,
 "nbformat_minor": 5
}
